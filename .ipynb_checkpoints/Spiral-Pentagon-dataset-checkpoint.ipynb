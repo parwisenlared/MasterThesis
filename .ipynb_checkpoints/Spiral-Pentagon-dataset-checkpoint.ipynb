{
 "cells": [
  {
   "cell_type": "markdown",
   "metadata": {},
   "source": [
    "# Spiral-Pentagon Dataset"
   ]
  },
  {
   "cell_type": "code",
   "execution_count": 1,
   "metadata": {},
   "outputs": [
    {
     "name": "stdout",
     "output_type": "stream",
     "text": [
      "/Users/lusy/Desktop/MasterThesis\n"
     ]
    }
   ],
   "source": [
    "import numpy as np\n",
    "import pandas as pd\n",
    "from matplotlib import pyplot as plt\n",
    "import os\n",
    "import glob\n",
    "import csv\n",
    "from progress.bar import Bar\n",
    "import glob, os\n",
    "\n",
    "print(os.getcwd())\n",
    "    #os.listdir(os.getcwd())\n",
    "    #os.chdir(\"dataset/NeckerCubeDrawings/patients/\")\n"
   ]
  },
  {
   "cell_type": "code",
   "execution_count": 70,
   "metadata": {},
   "outputs": [
    {
     "name": "stdout",
     "output_type": "stream",
     "text": [
      "/Users/lusy/Desktop\n"
     ]
    }
   ],
   "source": [
    "os.chdir(\"..\")\n",
    "os.chdir(\"..\")\n",
    "os.chdir(\"..\")\n",
    "os.chdir(\"..\")\n",
    "print(os.getcwd())"
   ]
  },
  {
   "cell_type": "code",
   "execution_count": 2,
   "metadata": {},
   "outputs": [
    {
     "data": {
      "text/plain": [
       "25"
      ]
     },
     "execution_count": 2,
     "metadata": {},
     "output_type": "execute_result"
    }
   ],
   "source": [
    "os.chdir(\"dataset/PentagonSpiralDrawings/controls\")\n",
    "\n",
    "pentagon_c = []\n",
    "for file in glob.glob(\"*.txt\"):\n",
    "    data = pd.read_csv(file, sep='\\s+', header=None)\n",
    "    data.columns = [\"timestamp\", \"xcoord\", \"ycoord\", \"xplane\", \"y plane\", \"pressure\"]\n",
    "    pentagon_c.append(data)\n",
    "    \n",
    "len(pentagon_c)\n"
   ]
  },
  {
   "cell_type": "code",
   "execution_count": 103,
   "metadata": {},
   "outputs": [],
   "source": [
    "#pentagon_c[0]"
   ]
  },
  {
   "cell_type": "code",
   "execution_count": 3,
   "metadata": {},
   "outputs": [
    {
     "data": {
      "text/plain": [
       "56"
      ]
     },
     "execution_count": 3,
     "metadata": {},
     "output_type": "execute_result"
    }
   ],
   "source": [
    "os.chdir(\"..\")\n",
    "os.chdir(\"patients\")\n",
    "\n",
    "pentagon_p = []\n",
    "for file in glob.glob(\"*.txt\"):\n",
    "    data = pd.read_csv(file, sep='\\s+', header=None)\n",
    "    data.columns = [\"timestamp\", \"xcoord\", \"ycoord\", \"xplane\", \"y plane\", \"pressure\"]\n",
    "    pentagon_p.append(data)\n",
    "    \n",
    "len(pentagon_p)"
   ]
  },
  {
   "cell_type": "markdown",
   "metadata": {},
   "source": [
    "# SPIRAL CONTROLS"
   ]
  },
  {
   "cell_type": "code",
   "execution_count": 5,
   "metadata": {},
   "outputs": [
    {
     "name": "stdout",
     "output_type": "stream",
     "text": [
      "/Users/lusy/Desktop/MasterThesis/dataset\n"
     ]
    }
   ],
   "source": [
    "os.chdir(\"..\")\n",
    "print(os.getcwd())"
   ]
  },
  {
   "cell_type": "code",
   "execution_count": 6,
   "metadata": {},
   "outputs": [
    {
     "name": "stdout",
     "output_type": "stream",
     "text": [
      "/Users/lusy/Desktop/MasterThesis/dataset/images/b&wZeroPressure/PentagonSpiralDrawings/healthy\n"
     ]
    }
   ],
   "source": [
    "os.chdir(\"images/b&wZeroPressure/PentagonSpiralDrawings/healthy\")\n",
    "print(os.getcwd())"
   ]
  },
  {
   "cell_type": "code",
   "execution_count": 8,
   "metadata": {},
   "outputs": [
    {
     "name": "stdout",
     "output_type": "stream",
     "text": [
      "(200, 200)\n"
     ]
    }
   ],
   "source": [
    "# Save images only with in black and white with zero-pressure information\n",
    "\n",
    "import numpy as np\n",
    "from PIL import Image\n",
    "\n",
    "image = 0\n",
    "#all_images = []\n",
    "\n",
    "for dataset in pentagon_c:\n",
    "    array = np.zeros((300,325),dtype='uint8')\n",
    "    a = 1\n",
    "    image = image + a\n",
    "    \n",
    "    for i in range(np.size(dataset.timestamp)):\n",
    "        if dataset.pressure[i] != 0:\n",
    "            x = int(round(dataset.xcoord[i]*203))\n",
    "            y = int(round(dataset.ycoord[i]*325))\n",
    "            array[x][y]= 255\n",
    "        else:\n",
    "            x = int(round(dataset.xcoord[i]*203))\n",
    "            y = int(round(dataset.ycoord[i]*325))\n",
    "            array[x][y] = 175\n",
    "        \n",
    "    array = array[0:200, 60:260]\n",
    "    #all_images.append(array)\n",
    "    img = Image.fromarray(array)\n",
    "    img.save(\"spiral_zerop_c_\" + str(image) + \".png\")\n",
    "    img.show()\n",
    "    \n",
    "print(array.shape)"
   ]
  },
  {
   "cell_type": "code",
   "execution_count": 10,
   "metadata": {},
   "outputs": [],
   "source": [
    "#len(all_images)"
   ]
  },
  {
   "cell_type": "code",
   "execution_count": 6,
   "metadata": {},
   "outputs": [
    {
     "name": "stdout",
     "output_type": "stream",
     "text": [
      "/Users/lusy/Desktop/MasterThesis/dataset/PentagonSpiralDrawings/patients\n"
     ]
    }
   ],
   "source": [
    "os.chdir(\"..\")\n",
    "os.chdir(\"..\")\n",
    "os.chdir(\"..\")\n",
    "print(os.getcwd())"
   ]
  },
  {
   "cell_type": "code",
   "execution_count": 5,
   "metadata": {},
   "outputs": [
    {
     "ename": "FileNotFoundError",
     "evalue": "[Errno 2] No such file or directory: 'b&wNoZeroPressure/PentagonSpiralDrawings/healthy'",
     "output_type": "error",
     "traceback": [
      "\u001b[0;31m---------------------------------------------------------------------------\u001b[0m",
      "\u001b[0;31mFileNotFoundError\u001b[0m                         Traceback (most recent call last)",
      "\u001b[0;32m<ipython-input-5-8d6e6bd19fea>\u001b[0m in \u001b[0;36m<module>\u001b[0;34m\u001b[0m\n\u001b[1;32m      1\u001b[0m \u001b[0;31m# Save images only with in black & white WITHOUT zero-pressure information\u001b[0m\u001b[0;34m\u001b[0m\u001b[0;34m\u001b[0m\u001b[0;34m\u001b[0m\u001b[0m\n\u001b[1;32m      2\u001b[0m \u001b[0;34m\u001b[0m\u001b[0m\n\u001b[0;32m----> 3\u001b[0;31m \u001b[0mos\u001b[0m\u001b[0;34m.\u001b[0m\u001b[0mchdir\u001b[0m\u001b[0;34m(\u001b[0m\u001b[0;34m\"b&wNoZeroPressure/PentagonSpiralDrawings/healthy\"\u001b[0m\u001b[0;34m)\u001b[0m\u001b[0;34m\u001b[0m\u001b[0;34m\u001b[0m\u001b[0m\n\u001b[0m\u001b[1;32m      4\u001b[0m \u001b[0;34m\u001b[0m\u001b[0m\n\u001b[1;32m      5\u001b[0m \u001b[0mimage\u001b[0m \u001b[0;34m=\u001b[0m \u001b[0;36m0\u001b[0m\u001b[0;34m\u001b[0m\u001b[0;34m\u001b[0m\u001b[0m\n",
      "\u001b[0;31mFileNotFoundError\u001b[0m: [Errno 2] No such file or directory: 'b&wNoZeroPressure/PentagonSpiralDrawings/healthy'"
     ]
    }
   ],
   "source": [
    "# Save images only with in black & white WITHOUT zero-pressure information\n",
    "\n",
    "os.chdir(\"b&wNoZeroPressure/PentagonSpiralDrawings/healthy\")\n",
    "\n",
    "image = 0\n",
    "#all_images = []\n",
    "\n",
    "for dataset in pentagon_c:\n",
    "    array = np.zeros((300,325),dtype='uint8')\n",
    "    a = 1\n",
    "    image = image + a\n",
    "    \n",
    "    for i in range(np.size(dataset.timestamp)):\n",
    "        if dataset.pressure[i] != 0:\n",
    "            x = int(round(dataset.xcoord[i]*203))\n",
    "            y = int(round(dataset.ycoord[i]*325))\n",
    "            array[x][y]=255\n",
    "        else:\n",
    "            x = int(round(dataset.xcoord[i]*203))\n",
    "            y = int(round(dataset.ycoord[i]*325))\n",
    "            array[x][y] = 175\n",
    "    \n",
    "    array = array[0:200, 60:260] \n",
    "    #all_images.append(array)\n",
    "    img = Image.fromarray(array)\n",
    "    img.save(\"bw_spiral_c_\" + str(image) + \".png\")\n",
    "    img.show()\n",
    "\n",
    "print(array.shape)"
   ]
  },
  {
   "cell_type": "code",
   "execution_count": 13,
   "metadata": {},
   "outputs": [
    {
     "name": "stdout",
     "output_type": "stream",
     "text": [
      "/Users/lusy/Desktop/MasterThesis/dataset/images\n"
     ]
    }
   ],
   "source": [
    "os.chdir(\"..\")\n",
    "os.chdir(\"..\")\n",
    "os.chdir(\"..\")\n",
    "print(os.getcwd())"
   ]
  },
  {
   "cell_type": "code",
   "execution_count": 14,
   "metadata": {},
   "outputs": [
    {
     "name": "stderr",
     "output_type": "stream",
     "text": [
      "/opt/anaconda3/lib/python3.7/site-packages/ipykernel_launcher.py:17: SettingWithCopyWarning: \n",
      "A value is trying to be set on a copy of a slice from a DataFrame\n",
      "\n",
      "See the caveats in the documentation: https://pandas.pydata.org/pandas-docs/stable/user_guide/indexing.html#returning-a-view-versus-a-copy\n"
     ]
    },
    {
     "name": "stdout",
     "output_type": "stream",
     "text": [
      "(200, 200)\n"
     ]
    }
   ],
   "source": [
    "# Save images only with in grey scale WITHOUT zero-pressure information\n",
    "\n",
    "os.chdir(\"greyscaleNozeroPresure/PentagonSpiralDrawings/healthy\")\n",
    "\n",
    "image = 0\n",
    "#all_images = []\n",
    "\n",
    "for dataset in pentagon_c:\n",
    "    minVal = dataset.pressure.min()\n",
    "    maxVal = dataset.pressure.max()\n",
    "    array = np.zeros((300,325),dtype='uint8')\n",
    "    \n",
    "    a = 1\n",
    "    image = image + a\n",
    "    \n",
    "    for i in range(np.size(dataset.timestamp)):\n",
    "        dataset.pressure[i] =  int((dataset.pressure[i] - minVal)*(255/ maxVal - minVal))\n",
    "        x = int(round(dataset.xcoord[i]*203))\n",
    "        y = int(round(dataset.ycoord[i]*325))\n",
    "        array[x][y]=dataset.pressure[i]\n",
    "    \n",
    "    array = array[0:200, 60:260]\n",
    "    #all_images.append(array)\n",
    "    img = Image.fromarray(array)\n",
    "    img.save(\"grey_spiral_c_\" + str(image) + \".png\")\n",
    "    #img.show()\n",
    "\n",
    "print(array.shape)"
   ]
  },
  {
   "cell_type": "code",
   "execution_count": 15,
   "metadata": {},
   "outputs": [
    {
     "name": "stdout",
     "output_type": "stream",
     "text": [
      "/Users/lusy/Desktop/MasterThesis/dataset/images\n"
     ]
    }
   ],
   "source": [
    "os.chdir(\"..\")\n",
    "os.chdir(\"..\")\n",
    "os.chdir(\"..\")\n",
    "print(os.getcwd())"
   ]
  },
  {
   "cell_type": "code",
   "execution_count": 16,
   "metadata": {},
   "outputs": [
    {
     "name": "stderr",
     "output_type": "stream",
     "text": [
      "/opt/anaconda3/lib/python3.7/site-packages/ipykernel_launcher.py:15: SettingWithCopyWarning: \n",
      "A value is trying to be set on a copy of a slice from a DataFrame\n",
      "\n",
      "See the caveats in the documentation: https://pandas.pydata.org/pandas-docs/stable/user_guide/indexing.html#returning-a-view-versus-a-copy\n",
      "  from ipykernel import kernelapp as app\n"
     ]
    },
    {
     "name": "stdout",
     "output_type": "stream",
     "text": [
      "(200, 200)\n"
     ]
    }
   ],
   "source": [
    "# Save images only with in greyscale WITH zero-pressure information\n",
    "    # in this case, zero pressure will have a value of ZERO !\n",
    "\n",
    "os.chdir(\"greyscaleZeroPressure/PentagonSpiralDrawings/healthy\")\n",
    "\n",
    "image = 0\n",
    "#all_images = []\n",
    "\n",
    "for dataset in pentagon_c:\n",
    "    array = np.zeros((300,325),dtype='uint8')\n",
    "    a = 1\n",
    "    image = image + a\n",
    "    \n",
    "    for i in range(np.size(dataset.timestamp)):\n",
    "        dataset.pressure[i] =  int((dataset.pressure[i] - minVal)*(254/ maxVal - minVal))\n",
    "        if dataset.pressure[i] != 0:\n",
    "            x = int(round(dataset.xcoord[i]*203))\n",
    "            y = int(round(dataset.ycoord[i]*325))\n",
    "            array[x][y]= dataset.pressure[i]\n",
    "        else:\n",
    "            x = int(round(dataset.xcoord[i]*203))\n",
    "            y = int(round(dataset.ycoord[i]*325))\n",
    "            array[x][y] = 255\n",
    "    \n",
    "    array = array[0:200, 60:260]\n",
    "    #all_images.append(array)\n",
    "    img = Image.fromarray(array)\n",
    "    img.save(\"grey_zerop_spiral_c_\" + str(image) + \".png\")\n",
    "    img.show()\n",
    "\n",
    "print(array.shape)    "
   ]
  },
  {
   "cell_type": "markdown",
   "metadata": {},
   "source": [
    "# SPIRAL PATIENTS"
   ]
  },
  {
   "cell_type": "code",
   "execution_count": 17,
   "metadata": {},
   "outputs": [
    {
     "name": "stdout",
     "output_type": "stream",
     "text": [
      "/Users/lusy/Desktop/MasterThesis/dataset\n"
     ]
    }
   ],
   "source": [
    "os.chdir(\"..\")\n",
    "os.chdir(\"..\")\n",
    "os.chdir(\"..\")\n",
    "os.chdir(\"..\")\n",
    "print(os.getcwd())"
   ]
  },
  {
   "cell_type": "code",
   "execution_count": 20,
   "metadata": {},
   "outputs": [
    {
     "name": "stdout",
     "output_type": "stream",
     "text": [
      "(200, 200)\n"
     ]
    }
   ],
   "source": [
    "# Save images only with in black and white with zero-pressure information\n",
    "\n",
    "os.chdir(\"images/b&wZeroPressure/PentagonSpiralDrawings/PD\")\n",
    "\n",
    "image = 0\n",
    "#all_images = []\n",
    "\n",
    "for dataset in pentagon_p:\n",
    "    array = np.zeros((300,325), dtype='uint8')\n",
    "    a = 1\n",
    "    image = image + a\n",
    "    \n",
    "    for i in range(np.size(dataset.timestamp)):\n",
    "        if dataset.pressure[i] != 0:\n",
    "            x = int(round(dataset.xcoord[i]*203))\n",
    "            y = int(round(dataset.ycoord[i]*325))\n",
    "            array[x][y]= 255\n",
    "        else:\n",
    "            x = int(round(dataset.xcoord[i]*203))\n",
    "            y = int(round(dataset.ycoord[i]*325))\n",
    "            array[x][y] = 175\n",
    "        \n",
    "    array = array[0:200, 60:260]\n",
    "    #all_images.append(array)\n",
    "    img = Image.fromarray(array)\n",
    "    img.save(\"spiral_zerop_p_\" + str(image) + \".png\")\n",
    "    img.show()\n",
    "    \n",
    "print(array.shape)"
   ]
  },
  {
   "cell_type": "code",
   "execution_count": 21,
   "metadata": {},
   "outputs": [
    {
     "name": "stdout",
     "output_type": "stream",
     "text": [
      "/Users/lusy/Desktop/MasterThesis/dataset/images\n"
     ]
    }
   ],
   "source": [
    "os.chdir(\"..\")\n",
    "os.chdir(\"..\")\n",
    "os.chdir(\"..\")\n",
    "print(os.getcwd())"
   ]
  },
  {
   "cell_type": "code",
   "execution_count": 27,
   "metadata": {},
   "outputs": [
    {
     "name": "stdout",
     "output_type": "stream",
     "text": [
      "(200, 200)\n"
     ]
    }
   ],
   "source": [
    "# Save images only with in black & white WITHOUT zero-pressure information\n",
    "\n",
    "#os.chdir(\"b&wNoZeroPressure/PentagonSpiralDrawings/PD\")\n",
    "\n",
    "image = 0\n",
    "#all_images = []\n",
    "\n",
    "for dataset in pentagon_p:\n",
    "    array = np.zeros((300,325),dtype='uint8')\n",
    "    a = 1\n",
    "    image = image + a\n",
    "    \n",
    "    for i in range(np.size(dataset.timestamp)):\n",
    "        if dataset.pressure[i] != 0:\n",
    "            x = int(round(dataset.xcoord[i]*203))\n",
    "            y = int(round(dataset.ycoord[i]*325))\n",
    "            array[x][y]=255\n",
    "    \n",
    "    array = array[0:200, 60:260]\n",
    "    #all_images.append(array)\n",
    "    img = Image.fromarray(array)\n",
    "    img.save(\"bw_spiral_p_\" + str(image) + \".png\")\n",
    "    #img.show()\n",
    "\n",
    "print(array.shape)"
   ]
  },
  {
   "cell_type": "code",
   "execution_count": 28,
   "metadata": {},
   "outputs": [
    {
     "name": "stdout",
     "output_type": "stream",
     "text": [
      "/Users/lusy/Desktop/MasterThesis/dataset/images\n"
     ]
    }
   ],
   "source": [
    "os.chdir(\"..\")\n",
    "os.chdir(\"..\")\n",
    "os.chdir(\"..\")\n",
    "print(os.getcwd())"
   ]
  },
  {
   "cell_type": "code",
   "execution_count": 29,
   "metadata": {},
   "outputs": [
    {
     "name": "stderr",
     "output_type": "stream",
     "text": [
      "/opt/anaconda3/lib/python3.7/site-packages/ipykernel_launcher.py:16: SettingWithCopyWarning: \n",
      "A value is trying to be set on a copy of a slice from a DataFrame\n",
      "\n",
      "See the caveats in the documentation: https://pandas.pydata.org/pandas-docs/stable/user_guide/indexing.html#returning-a-view-versus-a-copy\n",
      "  app.launch_new_instance()\n"
     ]
    },
    {
     "name": "stdout",
     "output_type": "stream",
     "text": [
      "(200, 200)\n"
     ]
    }
   ],
   "source": [
    "# Save images only with in greyscale WITHOUT zero-pressure information\n",
    "\n",
    "os.chdir(\"greyscaleNozeroPresure/PentagonSpiralDrawings/PD\")\n",
    "\n",
    "image = 0\n",
    "#all_images = []\n",
    "\n",
    "for dataset in pentagon_p:\n",
    "    minVal = dataset.pressure.min()\n",
    "    maxVal = dataset.pressure.max()\n",
    "    array = np.zeros((300,325),dtype='uint8')\n",
    "    a = 1\n",
    "    image = image + a\n",
    "    \n",
    "    for i in range(np.size(dataset.timestamp)):        \n",
    "        dataset.pressure[i] =  int((dataset.pressure[i] - minVal)*(255/ maxVal - minVal))\n",
    "        x = int(round(dataset.xcoord[i]*203))\n",
    "        y = int(round(dataset.ycoord[i]*325))\n",
    "        array[x][y]=dataset.pressure[i]\n",
    "    \n",
    "    array = array[0:200, 60:260]\n",
    "    #all_images.append(array)\n",
    "    img = Image.fromarray(array)\n",
    "    img.save(\"grey_spiral_p_\" + str(image) + \".png\")\n",
    "    #img.show()\n",
    "\n",
    "print(array.shape)"
   ]
  },
  {
   "cell_type": "code",
   "execution_count": 30,
   "metadata": {},
   "outputs": [
    {
     "name": "stdout",
     "output_type": "stream",
     "text": [
      "/Users/lusy/Desktop\n"
     ]
    }
   ],
   "source": [
    "os.chdir(\"..\")\n",
    "os.chdir(\"..\")\n",
    "os.chdir(\"..\")\n",
    "print(os.getcwd())"
   ]
  },
  {
   "cell_type": "code",
   "execution_count": 32,
   "metadata": {},
   "outputs": [
    {
     "name": "stderr",
     "output_type": "stream",
     "text": [
      "/opt/anaconda3/lib/python3.7/site-packages/ipykernel_launcher.py:14: SettingWithCopyWarning: \n",
      "A value is trying to be set on a copy of a slice from a DataFrame\n",
      "\n",
      "See the caveats in the documentation: https://pandas.pydata.org/pandas-docs/stable/user_guide/indexing.html#returning-a-view-versus-a-copy\n",
      "  \n"
     ]
    },
    {
     "name": "stdout",
     "output_type": "stream",
     "text": [
      "(200, 200)\n"
     ]
    }
   ],
   "source": [
    "# Save images only with in greyscale WITH zero-pressure information\n",
    "\n",
    "os.chdir(\"greyscaleZeroPressure/PentagonSpiralDrawings/PD\")\n",
    "\n",
    "image = 0\n",
    "#all_images = []\n",
    "\n",
    "for dataset in pentagon_p:\n",
    "    array = np.zeros((300,325),dtype='uint8')\n",
    "    a = 1\n",
    "    image = image + a\n",
    "    \n",
    "    for i in range(np.size(dataset.timestamp)):\n",
    "        dataset.pressure[i] =  int((dataset.pressure[i] - minVal)*(254/ maxVal - minVal))\n",
    "        if dataset.pressure[i] != 0:\n",
    "            x = int(round(dataset.xcoord[i]*203))\n",
    "            y = int(round(dataset.ycoord[i]*325))\n",
    "            array[x][y]= dataset.pressure[i]\n",
    "        else:\n",
    "            x = int(round(dataset.xcoord[i]*203))\n",
    "            y = int(round(dataset.ycoord[i]*325))\n",
    "            array[x][y] = 255\n",
    "    \n",
    "    array = array[0:200, 60:260]\n",
    "    #all_images.append(array)\n",
    "    img = Image.fromarray(array)\n",
    "    img.save(\"grey_spiral_zerop_p_\" + str(image) + \".png\")\n",
    "    img.show()\n",
    "\n",
    "print(array.shape)"
   ]
  },
  {
   "cell_type": "code",
   "execution_count": 33,
   "metadata": {},
   "outputs": [
    {
     "name": "stdout",
     "output_type": "stream",
     "text": [
      "/Users/lusy/Desktop\n"
     ]
    }
   ],
   "source": [
    "print(os.getcwd())"
   ]
  },
  {
   "cell_type": "code",
   "execution_count": null,
   "metadata": {},
   "outputs": [],
   "source": []
  }
 ],
 "metadata": {
  "kernelspec": {
   "display_name": "Python 3",
   "language": "python",
   "name": "python3"
  },
  "language_info": {
   "codemirror_mode": {
    "name": "ipython",
    "version": 3
   },
   "file_extension": ".py",
   "mimetype": "text/x-python",
   "name": "python",
   "nbconvert_exporter": "python",
   "pygments_lexer": "ipython3",
   "version": "3.7.6"
  }
 },
 "nbformat": 4,
 "nbformat_minor": 4
}
