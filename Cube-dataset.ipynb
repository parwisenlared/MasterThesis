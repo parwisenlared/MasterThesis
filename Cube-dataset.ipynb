{
 "cells": [
  {
   "cell_type": "markdown",
   "metadata": {},
   "source": [
    "# Cube Dataset"
   ]
  },
  {
   "cell_type": "code",
   "execution_count": 4,
   "metadata": {},
   "outputs": [
    {
     "name": "stdout",
     "output_type": "stream",
     "text": [
      "/Users/lusy/Desktop/MasterThesis/dataset/NeckerCubeDrawings/patients\n"
     ]
    }
   ],
   "source": [
    "from PIL import Image\n",
    "import numpy as np\n",
    "import pandas as pd\n",
    "from matplotlib import pyplot as plt\n",
    "import os\n",
    "import glob\n",
    "import csv\n",
    "from progress.bar import Bar\n",
    "import glob, os\n",
    "\n",
    "print(os.getcwd())\n",
    "    #os.listdir(os.getcwd())\n",
    "    #os.chdir(\"dataset/NeckerCubeDrawings/patients/\")\n"
   ]
  },
  {
   "cell_type": "code",
   "execution_count": 45,
   "metadata": {},
   "outputs": [
    {
     "name": "stdout",
     "output_type": "stream",
     "text": [
      "/Users/lusy/Desktop/MasterThesis/dataset\n"
     ]
    }
   ],
   "source": [
    "os.chdir(\"..\")\n",
    "os.chdir(\"..\")\n",
    "\n",
    "\n",
    "print(os.getcwd())"
   ]
  },
  {
   "cell_type": "code",
   "execution_count": 2,
   "metadata": {},
   "outputs": [
    {
     "data": {
      "text/plain": [
       "25"
      ]
     },
     "execution_count": 2,
     "metadata": {},
     "output_type": "execute_result"
    }
   ],
   "source": [
    "os.chdir(\"dataset/NeckerCubeDrawings/controls\")\n",
    "\n",
    "cube_c = []\n",
    "for file in glob.glob(\"*.txt\"):\n",
    "    data = pd.read_csv(file, sep='\\s+', header=None)\n",
    "    data.columns = [\"timestamp\", \"xcoord\", \"ycoord\", \"xplane\", \"y plane\", \"pressure\"]\n",
    "    cube_c.append(data)\n",
    "    \n",
    "len(cube_c)\n"
   ]
  },
  {
   "cell_type": "code",
   "execution_count": 103,
   "metadata": {},
   "outputs": [],
   "source": [
    "#cube_c[0]"
   ]
  },
  {
   "cell_type": "code",
   "execution_count": 3,
   "metadata": {},
   "outputs": [
    {
     "data": {
      "text/plain": [
       "56"
      ]
     },
     "execution_count": 3,
     "metadata": {},
     "output_type": "execute_result"
    }
   ],
   "source": [
    "os.chdir(\"..\")\n",
    "os.chdir(\"patients\")\n",
    "\n",
    "cube_p = []\n",
    "for file in glob.glob(\"*.txt\"):\n",
    "    data = pd.read_csv(file, sep='\\s+', header=None)\n",
    "    data.columns = [\"timestamp\", \"xcoord\", \"ycoord\", \"xplane\", \"y plane\", \"pressure\"]\n",
    "    cube_p.append(data)\n",
    "    \n",
    "len(cube_p)"
   ]
  },
  {
   "cell_type": "markdown",
   "metadata": {},
   "source": [
    "# CUBES CONTROLS"
   ]
  },
  {
   "cell_type": "code",
   "execution_count": 5,
   "metadata": {},
   "outputs": [
    {
     "name": "stdout",
     "output_type": "stream",
     "text": [
      "/Users/lusy/Desktop/MasterThesis/dataset\n"
     ]
    }
   ],
   "source": [
    "os.chdir(\"..\")\n",
    "os.chdir(\"..\")\n",
    "print(os.getcwd())"
   ]
  },
  {
   "cell_type": "code",
   "execution_count": 6,
   "metadata": {},
   "outputs": [
    {
     "name": "stdout",
     "output_type": "stream",
     "text": [
      "/Users/lusy/Desktop/MasterThesis/dataset/images/b&wZeroPressure/NeckerCubeDrawings/healthy\n"
     ]
    }
   ],
   "source": [
    "os.chdir(\"images/b&wZeroPressure/NeckerCubeDrawings/healthy\")\n",
    "print(os.getcwd())"
   ]
  },
  {
   "cell_type": "code",
   "execution_count": 8,
   "metadata": {},
   "outputs": [
    {
     "name": "stdout",
     "output_type": "stream",
     "text": [
      "(200, 200)\n"
     ]
    }
   ],
   "source": [
    "# Save images only with in black and white WITH zero-pressure information\n",
    "\n",
    "image = 0\n",
    "#all_images = []\n",
    "\n",
    "for dataset in cube_c:\n",
    "    array = np.zeros((300,325),dtype='uint8')\n",
    "    a = 1\n",
    "    image = image + a\n",
    "    \n",
    "    for i in range(np.size(dataset.timestamp)):\n",
    "        if dataset.pressure[i] != 0:\n",
    "            x = int(round(dataset.xcoord[i]*203))\n",
    "            y = int(round(dataset.ycoord[i]*325))\n",
    "            array[x][y]= 255\n",
    "        else:\n",
    "            x = int(round(dataset.xcoord[i]*203))\n",
    "            y = int(round(dataset.ycoord[i]*325))\n",
    "            array[x][y] = 175\n",
    "        \n",
    "    array = array[0:200, 50:250]\n",
    "    #all_images.append(array)\n",
    "    img = Image.fromarray(array)\n",
    "    img.save(\"cube_zerop_c_\" + str(image) + \".png\")\n",
    "    #img.show()\n",
    "    \n",
    "print(array.shape)"
   ]
  },
  {
   "cell_type": "code",
   "execution_count": 66,
   "metadata": {},
   "outputs": [
    {
     "data": {
      "text/plain": [
       "25"
      ]
     },
     "execution_count": 66,
     "metadata": {},
     "output_type": "execute_result"
    }
   ],
   "source": [
    "len(all_images)"
   ]
  },
  {
   "cell_type": "code",
   "execution_count": 9,
   "metadata": {},
   "outputs": [
    {
     "name": "stdout",
     "output_type": "stream",
     "text": [
      "/Users/lusy/Desktop/MasterThesis/dataset/images\n"
     ]
    }
   ],
   "source": [
    "os.chdir(\"..\")\n",
    "os.chdir(\"..\")\n",
    "os.chdir(\"..\")\n",
    "print(os.getcwd())"
   ]
  },
  {
   "cell_type": "code",
   "execution_count": 11,
   "metadata": {},
   "outputs": [
    {
     "name": "stdout",
     "output_type": "stream",
     "text": [
      "(200, 200)\n"
     ]
    }
   ],
   "source": [
    "# Save images only with in black & white WITHOUT zero-pressure information\n",
    "\n",
    "os.chdir(\"b&wNoZeroPressure/NeckerCubeDrawings/healthy\")\n",
    "\n",
    "image = 0\n",
    "#all_images = []\n",
    "\n",
    "for dataset in cube_c:\n",
    "    array = np.zeros((300,325),dtype='uint8')\n",
    "    a = 1\n",
    "    image = image + a\n",
    "    \n",
    "    for i in range(np.size(dataset.timestamp)):\n",
    "        if dataset.pressure[i] != 0:\n",
    "            x = int(round(dataset.xcoord[i]*203))\n",
    "            y = int(round(dataset.ycoord[i]*325))\n",
    "            array[x][y]=255\n",
    "    \n",
    "    array = array[0:200, 50:250]\n",
    "    #all_images.append(array)\n",
    "    img = Image.fromarray(array)\n",
    "    img.save(\"bw_cube_c_\" + str(image) + \".png\")\n",
    "    #img.show()\n",
    "\n",
    "print(array.shape)"
   ]
  },
  {
   "cell_type": "code",
   "execution_count": 12,
   "metadata": {},
   "outputs": [
    {
     "name": "stdout",
     "output_type": "stream",
     "text": [
      "/Users/lusy/Desktop/MasterThesis/dataset/images\n"
     ]
    }
   ],
   "source": [
    "os.chdir(\"..\")\n",
    "os.chdir(\"..\")\n",
    "os.chdir(\"..\")\n",
    "print(os.getcwd())"
   ]
  },
  {
   "cell_type": "code",
   "execution_count": 13,
   "metadata": {},
   "outputs": [
    {
     "name": "stdout",
     "output_type": "stream",
     "text": [
      "0.0 0.8993157148361206\n",
      "0.0 1.0\n",
      "0.0 0.9501466155052184\n",
      "0.0 1.0\n",
      "0.0 0.8611925840377808\n",
      "0.0 0.9980449676513672\n",
      "0.0 1.0\n",
      "0.0 1.0\n",
      "0.0 1.0\n",
      "0.0 1.0\n",
      "0.0 0.9677419066429138\n",
      "0.0 0.9325513243675232\n",
      "0.0 1.0\n",
      "0.0 0.67253178358078\n",
      "0.0 0.829912006855011\n",
      "0.0 0.8220918774604797\n",
      "0.0 1.0\n",
      "0.0 0.8494623899459839\n",
      "0.0 0.32746821641922\n",
      "0.0 0.8426197171211243\n",
      "0.0 1.0\n",
      "0.0 1.0\n",
      "0.0 1.0\n",
      "0.0 1.0\n",
      "0.0 1.0\n"
     ]
    }
   ],
   "source": [
    "os.chdir(\"greyscaleNozeroPresure/NeckerCubeDrawings/healthy\")\n",
    "\n",
    "image = 0\n",
    "#all_images = []\n",
    "\n",
    "for dataset in cube_c:\n",
    "    minVal = dataset.pressure.min()\n",
    "    maxVal = dataset.pressure.max()\n",
    "    print(minVal,maxVal)"
   ]
  },
  {
   "cell_type": "code",
   "execution_count": 15,
   "metadata": {},
   "outputs": [
    {
     "name": "stderr",
     "output_type": "stream",
     "text": [
      "/opt/anaconda3/lib/python3.7/site-packages/ipykernel_launcher.py:17: SettingWithCopyWarning: \n",
      "A value is trying to be set on a copy of a slice from a DataFrame\n",
      "\n",
      "See the caveats in the documentation: https://pandas.pydata.org/pandas-docs/stable/user_guide/indexing.html#returning-a-view-versus-a-copy\n"
     ]
    },
    {
     "name": "stdout",
     "output_type": "stream",
     "text": [
      "(200, 200)\n"
     ]
    }
   ],
   "source": [
    "# Save images only with in grey scale WITHOUT zero-pressure information\n",
    "\n",
    "os.chdir(\"greyscaleNozeroPresure/NeckerCubeDrawings/healthy\")\n",
    "\n",
    "image = 0\n",
    "#all_images = []\n",
    "\n",
    "for dataset in cube_c:\n",
    "    minVal = dataset.pressure.min()\n",
    "    maxVal = dataset.pressure.max()\n",
    "    array = np.zeros((300,325),dtype='uint8')\n",
    "    \n",
    "    a = 1\n",
    "    image = image + a\n",
    "    \n",
    "    for i in range(np.size(dataset.timestamp)):\n",
    "        dataset.pressure[i] =  int((dataset.pressure[i] - minVal)*(255/ maxVal - minVal))\n",
    "        x = int(round(dataset.xcoord[i]*203))\n",
    "        y = int(round(dataset.ycoord[i]*325))\n",
    "        array[x][y]=dataset.pressure[i]\n",
    "    \n",
    "    array = array[0:200, 50:250]\n",
    "    #all_images.append(array)\n",
    "    img = Image.fromarray(array)\n",
    "    img.save(\"grey_cube_c_\" + str(image) + \".png\")\n",
    "    #img.show()\n",
    "\n",
    "print(array.shape)"
   ]
  },
  {
   "cell_type": "code",
   "execution_count": 16,
   "metadata": {},
   "outputs": [
    {
     "name": "stdout",
     "output_type": "stream",
     "text": [
      "/Users/lusy/Desktop/MasterThesis/dataset/images\n"
     ]
    }
   ],
   "source": [
    "os.chdir(\"..\")\n",
    "os.chdir(\"..\")\n",
    "os.chdir(\"..\")\n",
    "print(os.getcwd())"
   ]
  },
  {
   "cell_type": "code",
   "execution_count": 17,
   "metadata": {},
   "outputs": [
    {
     "name": "stderr",
     "output_type": "stream",
     "text": [
      "/opt/anaconda3/lib/python3.7/site-packages/ipykernel_launcher.py:18: SettingWithCopyWarning: \n",
      "A value is trying to be set on a copy of a slice from a DataFrame\n",
      "\n",
      "See the caveats in the documentation: https://pandas.pydata.org/pandas-docs/stable/user_guide/indexing.html#returning-a-view-versus-a-copy\n"
     ]
    },
    {
     "name": "stdout",
     "output_type": "stream",
     "text": [
      "(200, 200)\n"
     ]
    }
   ],
   "source": [
    "# Save images only with in greyscale WITH zero-pressure information\n",
    "    # in this case, zero pressure will have a value of ZERO !\n",
    "\n",
    "os.chdir(\"greyscaleZeroPressure/NeckerCubeDrawings/healthy\")\n",
    "\n",
    "image = 0\n",
    "#all_images = []\n",
    "\n",
    "for dataset in cube_c:\n",
    "    minVal = dataset.pressure.min()\n",
    "    maxVal = dataset.pressure.max()\n",
    "    array = np.zeros((300,325),dtype='uint8')\n",
    "    a = 1\n",
    "    image = image + a\n",
    "    \n",
    "    for i in range(np.size(dataset.timestamp)):\n",
    "        if dataset.pressure[i] != 0:\n",
    "            dataset.pressure[i] =  int((dataset.pressure[i] - minVal)*(254/ maxVal - minVal))\n",
    "            x = int(round(dataset.xcoord[i]*203))\n",
    "            y = int(round(dataset.ycoord[i]*325))\n",
    "            array[x][y]= dataset.pressure[i]\n",
    "        else:\n",
    "            x = int(round(dataset.xcoord[i]*203))\n",
    "            y = int(round(dataset.ycoord[i]*325))\n",
    "            array[x][y] = 255\n",
    "    \n",
    "    array = array[0:200, 50:250]\n",
    "    #all_images.append(array)\n",
    "    img = Image.fromarray(array)\n",
    "    img.save(\"grey_zerop_cube_c_\" + str(image) + \".png\")\n",
    "    #img.show()\n",
    "\n",
    "print(array.shape)    "
   ]
  },
  {
   "cell_type": "markdown",
   "metadata": {},
   "source": [
    "# CUBE PATIENTS"
   ]
  },
  {
   "cell_type": "code",
   "execution_count": 18,
   "metadata": {},
   "outputs": [
    {
     "name": "stdout",
     "output_type": "stream",
     "text": [
      "/Users/lusy/Desktop/MasterThesis/dataset/images/greyscaleZeroPressure/NeckerCubeDrawings/PD\n"
     ]
    }
   ],
   "source": [
    "os.chdir(\"..\")\n",
    "os.chdir(\"PD\")\n",
    "print(os.getcwd())"
   ]
  },
  {
   "cell_type": "code",
   "execution_count": 19,
   "metadata": {},
   "outputs": [
    {
     "name": "stdout",
     "output_type": "stream",
     "text": [
      "(200, 200)\n"
     ]
    }
   ],
   "source": [
    "# Save images only with in black and white with zero-pressure information\n",
    "\n",
    "#os.chdir(\"images/b&wZeroPressure/NeckerCubeDrawings/PD\")\n",
    "\n",
    "image = 0\n",
    "#all_images = []\n",
    "\n",
    "for dataset in cube_p:\n",
    "    array = np.zeros((300,325), dtype='uint8')\n",
    "    a = 1\n",
    "    image = image + a\n",
    "    \n",
    "    for i in range(np.size(dataset.timestamp)):\n",
    "        if dataset.pressure[i] != 0:\n",
    "            x = int(round(dataset.xcoord[i]*203))\n",
    "            y = int(round(dataset.ycoord[i]*325))\n",
    "            array[x][y]= 255\n",
    "        else:\n",
    "            x = int(round(dataset.xcoord[i]*203))\n",
    "            y = int(round(dataset.ycoord[i]*325))\n",
    "            array[x][y] = 175\n",
    "        \n",
    "    array = array[0:200, 50:250]\n",
    "    #all_images.append(array)\n",
    "    img = Image.fromarray(array)\n",
    "    img.save(\"bw_cube_zerop_p_\" + str(image) + \".png\")\n",
    "    #img.show()\n",
    "    \n",
    "print(array.shape)"
   ]
  },
  {
   "cell_type": "code",
   "execution_count": 20,
   "metadata": {},
   "outputs": [
    {
     "name": "stdout",
     "output_type": "stream",
     "text": [
      "/Users/lusy/Desktop/MasterThesis/dataset/images\n"
     ]
    }
   ],
   "source": [
    "os.chdir(\"..\")\n",
    "os.chdir(\"..\")\n",
    "os.chdir(\"..\")\n",
    "print(os.getcwd())"
   ]
  },
  {
   "cell_type": "code",
   "execution_count": 21,
   "metadata": {},
   "outputs": [
    {
     "name": "stdout",
     "output_type": "stream",
     "text": [
      "(200, 200)\n"
     ]
    }
   ],
   "source": [
    "# Save images only with in black & white WITHOUT zero-pressure information\n",
    "\n",
    "os.chdir(\"b&wNoZeroPressure/NeckerCubeDrawings/PD\")\n",
    "\n",
    "image = 0\n",
    "#all_images = []\n",
    "\n",
    "for dataset in cube_p:\n",
    "    array = np.zeros((300,325),dtype='uint8')\n",
    "    a = 1\n",
    "    image = image + a\n",
    "    \n",
    "    for i in range(np.size(dataset.timestamp)):\n",
    "        if dataset.pressure[i] != 0:\n",
    "            x = int(round(dataset.xcoord[i]*203))\n",
    "            y = int(round(dataset.ycoord[i]*325))\n",
    "            array[x][y]=255\n",
    "    \n",
    "    array = array[0:200, 50:250]\n",
    "    #all_images.append(array)\n",
    "    img = Image.fromarray(array)\n",
    "    img.save(\"bw_cube_p_\" + str(image) + \".png\")\n",
    "    #img.show()\n",
    "\n",
    "print(array.shape)"
   ]
  },
  {
   "cell_type": "code",
   "execution_count": 22,
   "metadata": {},
   "outputs": [
    {
     "name": "stdout",
     "output_type": "stream",
     "text": [
      "/Users/lusy/Desktop/MasterThesis/dataset/images\n"
     ]
    }
   ],
   "source": [
    "os.chdir(\"..\")\n",
    "os.chdir(\"..\")\n",
    "os.chdir(\"..\")\n",
    "print(os.getcwd())"
   ]
  },
  {
   "cell_type": "code",
   "execution_count": 23,
   "metadata": {},
   "outputs": [
    {
     "name": "stderr",
     "output_type": "stream",
     "text": [
      "/opt/anaconda3/lib/python3.7/site-packages/ipykernel_launcher.py:16: SettingWithCopyWarning: \n",
      "A value is trying to be set on a copy of a slice from a DataFrame\n",
      "\n",
      "See the caveats in the documentation: https://pandas.pydata.org/pandas-docs/stable/user_guide/indexing.html#returning-a-view-versus-a-copy\n",
      "  app.launch_new_instance()\n"
     ]
    },
    {
     "name": "stdout",
     "output_type": "stream",
     "text": [
      "(200, 200)\n"
     ]
    }
   ],
   "source": [
    "# Save images only with in greyscale WITHOUT zero-pressure information\n",
    "\n",
    "os.chdir(\"greyscaleNozeroPresure/NeckerCubeDrawings/PD\")\n",
    "\n",
    "image = 0\n",
    "#all_images = []\n",
    "\n",
    "for dataset in cube_p:\n",
    "    minVal = dataset.pressure.min()\n",
    "    maxVal = dataset.pressure.max()\n",
    "    array = np.zeros((300,325),dtype='uint8')\n",
    "    a = 1\n",
    "    image = image + a\n",
    "    \n",
    "    for i in range(np.size(dataset.timestamp)):        \n",
    "        dataset.pressure[i] =  int((dataset.pressure[i] - minVal)*(255/ maxVal - minVal))\n",
    "        x = int(round(dataset.xcoord[i]*203))\n",
    "        y = int(round(dataset.ycoord[i]*325))\n",
    "        array[x][y]=dataset.pressure[i]\n",
    "    \n",
    "    array = array[0:200, 50:250]\n",
    "    #all_images.append(array)\n",
    "    img = Image.fromarray(array)\n",
    "    img.save(\"grey_cube_p_\" + str(image) + \".png\")\n",
    "    #img.show()\n",
    "\n",
    "print(array.shape)"
   ]
  },
  {
   "cell_type": "code",
   "execution_count": 24,
   "metadata": {},
   "outputs": [
    {
     "name": "stdout",
     "output_type": "stream",
     "text": [
      "/Users/lusy/Desktop/MasterThesis/dataset\n"
     ]
    }
   ],
   "source": [
    "os.chdir(\"..\")\n",
    "os.chdir(\"..\")\n",
    "os.chdir(\"..\")\n",
    "print(os.getcwd())"
   ]
  },
  {
   "cell_type": "code",
   "execution_count": 27,
   "metadata": {},
   "outputs": [
    {
     "name": "stderr",
     "output_type": "stream",
     "text": [
      "/opt/anaconda3/lib/python3.7/site-packages/ipykernel_launcher.py:14: SettingWithCopyWarning: \n",
      "A value is trying to be set on a copy of a slice from a DataFrame\n",
      "\n",
      "See the caveats in the documentation: https://pandas.pydata.org/pandas-docs/stable/user_guide/indexing.html#returning-a-view-versus-a-copy\n",
      "  \n"
     ]
    },
    {
     "name": "stdout",
     "output_type": "stream",
     "text": [
      "(200, 200)\n"
     ]
    }
   ],
   "source": [
    "# Save images only with in greyscale WITH zero-pressure information\n",
    "\n",
    "os.chdir(\"images/greyscaleZeroPressure/NeckerCubeDrawings/PD\")\n",
    "\n",
    "image = 0\n",
    "#all_images = []\n",
    "\n",
    "for dataset in cube_p:\n",
    "    array = np.zeros((300,325),dtype='uint8')\n",
    "    a = 1\n",
    "    image = image + a\n",
    "    \n",
    "    for i in range(np.size(dataset.timestamp)):\n",
    "        dataset.pressure[i] =  int((dataset.pressure[i] - minVal)*(254/ maxVal - minVal))\n",
    "        if dataset.pressure[i] != 0:\n",
    "            x = int(round(dataset.xcoord[i]*203))\n",
    "            y = int(round(dataset.ycoord[i]*325))\n",
    "            array[x][y]= dataset.pressure[i]\n",
    "        else:\n",
    "            x = int(round(dataset.xcoord[i]*203))\n",
    "            y = int(round(dataset.ycoord[i]*325))\n",
    "            array[x][y] = 255\n",
    "    \n",
    "    array = array[0:200, 50:250]\n",
    "    #all_images.append(array)\n",
    "    img = Image.fromarray(array)\n",
    "    img.save(\"grey_cube_zerop_p_\" + str(image) + \".png\")\n",
    "    #img.show()\n",
    "\n",
    "print(array.shape)"
   ]
  },
  {
   "cell_type": "code",
   "execution_count": 26,
   "metadata": {},
   "outputs": [
    {
     "name": "stdout",
     "output_type": "stream",
     "text": [
      "/Users/lusy/Desktop/MasterThesis/dataset\n"
     ]
    }
   ],
   "source": [
    "print(os.getcwd())"
   ]
  },
  {
   "cell_type": "code",
   "execution_count": null,
   "metadata": {},
   "outputs": [],
   "source": []
  }
 ],
 "metadata": {
  "kernelspec": {
   "display_name": "Python 3",
   "language": "python",
   "name": "python3"
  },
  "language_info": {
   "codemirror_mode": {
    "name": "ipython",
    "version": 3
   },
   "file_extension": ".py",
   "mimetype": "text/x-python",
   "name": "python",
   "nbconvert_exporter": "python",
   "pygments_lexer": "ipython3",
   "version": "3.7.6"
  }
 },
 "nbformat": 4,
 "nbformat_minor": 4
}
